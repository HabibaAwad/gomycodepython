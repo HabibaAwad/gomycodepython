{
 "cells": [
  {
   "cell_type": "code",
   "execution_count": 10,
   "id": "e8b2b5aa",
   "metadata": {},
   "outputs": [
    {
     "name": "stdout",
     "output_type": "stream",
     "text": [
      "36\n"
     ]
    }
   ],
   "source": [
    "list1= [2, 3, 6]\n",
    "item=1\n",
    "for i in list1:\n",
    "    item = item*i\n",
    "print(item)"
   ]
  },
  {
   "cell_type": "code",
   "execution_count": 88,
   "id": "1ec51802",
   "metadata": {},
   "outputs": [
    {
     "name": "stdout",
     "output_type": "stream",
     "text": [
      "[(2, 1), (1, 2), (2, 3), (4, 4), (2, 5)]\n"
     ]
    }
   ],
   "source": [
    "list1= [(2, 5), (1, 2), (4, 4), (2, 3), (2, 1)]\n",
    "def tuplelist (list1):\n",
    "    return list1[1]\n",
    "\n",
    "print(sorted((list1), key=tuplelist))"
   ]
  },
  {
   "cell_type": "code",
   "execution_count": 186,
   "id": "b126adcc",
   "metadata": {},
   "outputs": [
    {
     "name": "stdout",
     "output_type": "stream",
     "text": [
      "{'a': 400, 'b': 400, 'd': 400}\n"
     ]
    }
   ],
   "source": [
    "d1 = {'a': 100, 'b': 200, 'c':300}\n",
    "\n",
    "d2 = {'a': 300, 'b': 200, 'd':400}\n",
    "\n",
    "d = {}\n",
    "for i, j in d1.items():\n",
    "    for x, y in d2.items():\n",
    "        if i == x:\n",
    "            d[i]=(j+y)\n",
    "for i,j in d2.items():\n",
    "    if i not in d1:\n",
    "        d[i] =d2[i]\n",
    "    elif i not in d2:\n",
    "           d[i] = d1[i]\n",
    "            \n",
    "print(d)\n",
    " "
   ]
  },
  {
   "cell_type": "code",
   "execution_count": 168,
   "id": "915669a5",
   "metadata": {},
   "outputs": [
    {
     "name": "stdout",
     "output_type": "stream",
     "text": [
      "{'a': 400, 'b': 400, 'c': 300, 'd': 400}\n"
     ]
    }
   ],
   "source": [
    "d1 = {'a': 100, 'b': 200, 'c':300}\n",
    "\n",
    "d2 = {'a': 300, 'b': 200, 'd':400}\n",
    "\n",
    "d = {}\n",
    "for i in d1:\n",
    "    if i in d2:\n",
    "        d[i]=d1[i]+d2[i]\n",
    "    else:\n",
    "        d[i] = d1[i]\n",
    "for i in d2:\n",
    "    if i not in d1:\n",
    "        d[i] =d2[i]\n",
    "\n",
    "print(d)\n"
   ]
  },
  {
   "cell_type": "code",
   "execution_count": 174,
   "id": "a9a97d97",
   "metadata": {},
   "outputs": [
    {
     "name": "stdout",
     "output_type": "stream",
     "text": [
      "{1: 1, 2: 4, 3: 9, 4: 16, 5: 25, 6: 36, 7: 49, 8: 64}\n"
     ]
    }
   ],
   "source": [
    "integer = 8\n",
    "\n",
    "number_dictionary = {}\n",
    "\n",
    "for i in range(1, integer+1):\n",
    "    number_dictionary [i] =i * i\n",
    "\n",
    "print(number_dictionary)"
   ]
  },
  {
   "cell_type": "code",
   "execution_count": 187,
   "id": "f103d91e",
   "metadata": {},
   "outputs": [
    {
     "name": "stdout",
     "output_type": "stream",
     "text": [
      "Type a integer: 8\n",
      "{1: 1, 2: 4, 3: 9, 4: 16, 5: 25, 6: 36, 7: 49, 8: 64}\n"
     ]
    }
   ],
   "source": [
    "integer = int(input(\"Type a integer: \"))\n",
    "\n",
    "number_dictionary = {}\n",
    "\n",
    "for i in range(1, integer+1):\n",
    "    number_dictionary [i] =i * i\n",
    "\n",
    "print(number_dictionary)"
   ]
  },
  {
   "cell_type": "code",
   "execution_count": 15,
   "id": "0856998e",
   "metadata": {},
   "outputs": [
    {
     "name": "stdout",
     "output_type": "stream",
     "text": [
      "[('item1', '12.20'), ('item2', '15.10'), ('item3', '24.5')]\n"
     ]
    }
   ],
   "source": [
    "tuple2= [('item1', '12.20'), ('item2', '15.10'), ('item3', '24.5')]\n",
    "def Sort(tuple2):\n",
    "    return(sorted(tuple2, key = lambda x: float(x[1]), reverse = True))\n",
    "print(tuple2)"
   ]
  },
  {
   "cell_type": "code",
   "execution_count": 4,
   "id": "c0c42c1f",
   "metadata": {},
   "outputs": [
    {
     "name": "stdout",
     "output_type": "stream",
     "text": [
      "[('item3', '24.5'), ('item2', '15.10'), ('item1', '12.20')]\n"
     ]
    }
   ],
   "source": [
    "tuple1= [('item1', '12.20'), ('item2', '15.10'), ('item3', '24.5')]\n",
    "def Sort(tuple1):\n",
    "    tuple1.sort(key = lambda x: float(x[1]), reverse = True)\n",
    "    print(tuple1)\n",
    "Sort(tuple1)"
   ]
  },
  {
   "cell_type": "code",
   "execution_count": null,
   "id": "7a75d6ca",
   "metadata": {},
   "outputs": [],
   "source": []
  }
 ],
 "metadata": {
  "kernelspec": {
   "display_name": "Python 3 (ipykernel)",
   "language": "python",
   "name": "python3"
  },
  "language_info": {
   "codemirror_mode": {
    "name": "ipython",
    "version": 3
   },
   "file_extension": ".py",
   "mimetype": "text/x-python",
   "name": "python",
   "nbconvert_exporter": "python",
   "pygments_lexer": "ipython3",
   "version": "3.9.12"
  }
 },
 "nbformat": 4,
 "nbformat_minor": 5
}
