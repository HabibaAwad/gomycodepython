{
 "cells": [
  {
   "cell_type": "markdown",
   "id": "1a8f1f88",
   "metadata": {},
   "source": [
    "Write a Python program to convert an array to an ordinary list with the same items.\n",
    "\n",
    "We can use the np.tolist() function."
   ]
  },
  {
   "cell_type": "code",
   "execution_count": 3,
   "id": "5a803859",
   "metadata": {},
   "outputs": [
    {
     "name": "stdout",
     "output_type": "stream",
     "text": [
      "['1' '2' '3' 'suzan']\n",
      "['1', '2', '3', 'suzan']\n"
     ]
    }
   ],
   "source": [
    "import numpy as np\n",
    "array1 = np.array([1, 2, 3, \"suzan\"])\n",
    "\n",
    "print(array1)\n",
    "\n",
    "list1 = array1.tolist()\n",
    "\n",
    "print(list1)"
   ]
  },
  {
   "cell_type": "markdown",
   "id": "727aabe2",
   "metadata": {},
   "source": [
    "Write a NumPy program to compute the sum of the diagonal elements of a given array.\n",
    "\n",
    "Hint: There are two possible methods to solve this problem: \n",
    "\n",
    "Manually (without direct function). \n",
    "Using the trace function"
   ]
  },
  {
   "cell_type": "code",
   "execution_count": 7,
   "id": "ae7bbd12",
   "metadata": {},
   "outputs": [
    {
     "name": "stdout",
     "output_type": "stream",
     "text": [
      "[[ 5  5 12]\n",
      " [ 6  4  9]\n",
      " [ 2  7 10]]\n",
      "19\n"
     ]
    }
   ],
   "source": [
    "import numpy as np\n",
    "\n",
    "numPy_array = np.array([[5, 5, 12],\n",
    "                        [6, 4, 9],\n",
    "                       [2,7,10]])\n",
    "  \n",
    "\n",
    "print(numPy_array)\n",
    "\n",
    "trace1 = np.trace(numPy_array) \n",
    "\n",
    "print(trace1)"
   ]
  },
  {
   "cell_type": "markdown",
   "id": "3ec8fc3f",
   "metadata": {},
   "source": [
    "Given an array of your choice, get all the values higher than X:\n",
    "\n",
    "If a = [[1,2],[3,5]] and x = 2 :  then 3 and 5 are higher than 2. "
   ]
  },
  {
   "cell_type": "code",
   "execution_count": 9,
   "id": "fd011a74",
   "metadata": {},
   "outputs": [
    {
     "name": "stdout",
     "output_type": "stream",
     "text": [
      "[3 5]\n"
     ]
    }
   ],
   "source": [
    "import numpy as np\n",
    "a = np.array([[1, 2], [3, 5]])\n",
    "print(a[a>2])\n"
   ]
  },
  {
   "cell_type": "markdown",
   "id": "0cd8c96c",
   "metadata": {},
   "source": [
    "Given two arrays, A & B have the same shape. \n",
    "\n",
    "The task is to apply addition by hand: C is the new array. "
   ]
  },
  {
   "cell_type": "code",
   "execution_count": 11,
   "id": "c4d2c71a",
   "metadata": {},
   "outputs": [
    {
     "name": "stdout",
     "output_type": "stream",
     "text": [
      "[[ 7  9]\n",
      " [ 7 13]\n",
      " [ 8 14]]\n"
     ]
    }
   ],
   "source": [
    "A = np.array([(6, 7),\n",
    "              (4, 9),\n",
    "              (3, 8)])\n",
    "B = np.array([(1, 2),\n",
    "              (3, 4),\n",
    "              (5, 6)])\n",
    "C= A+B\n",
    "print(C)"
   ]
  },
  {
   "cell_type": "markdown",
   "id": "3f16e27f",
   "metadata": {},
   "source": [
    "Write a NumPy program to subtract the mean of each row of a given matrix.\n",
    "\n",
    "Hint: use the mean function"
   ]
  },
  {
   "cell_type": "code",
   "execution_count": 16,
   "id": "4492213f",
   "metadata": {},
   "outputs": [
    {
     "ename": "TypeError",
     "evalue": "'builtin_function_or_method' object is not subscriptable",
     "output_type": "error",
     "traceback": [
      "\u001b[1;31m---------------------------------------------------------------------------\u001b[0m",
      "\u001b[1;31mTypeError\u001b[0m                                 Traceback (most recent call last)",
      "Input \u001b[1;32mIn [16]\u001b[0m, in \u001b[0;36m<cell line: 2>\u001b[1;34m()\u001b[0m\n\u001b[0;32m      1\u001b[0m \u001b[38;5;28;01mimport\u001b[39;00m \u001b[38;5;21;01mnumpy\u001b[39;00m \u001b[38;5;28;01mas\u001b[39;00m \u001b[38;5;21;01mnp\u001b[39;00m\n\u001b[1;32m----> 2\u001b[0m a \u001b[38;5;241m=\u001b[39m \u001b[43mnp\u001b[49m\u001b[38;5;241;43m.\u001b[39;49m\u001b[43mrandom\u001b[49m\u001b[38;5;241;43m.\u001b[39;49m\u001b[43mrandint\u001b[49m\u001b[43m[\u001b[49m\u001b[43m(\u001b[49m\u001b[38;5;241;43m10\u001b[39;49m\u001b[43m,\u001b[49m\u001b[43m \u001b[49m\u001b[38;5;241;43m23\u001b[39;49m\u001b[43m)\u001b[49m\u001b[43m]\u001b[49m\n\u001b[0;32m      3\u001b[0m \u001b[38;5;28mprint\u001b[39m(a)\n\u001b[0;32m      4\u001b[0m b \u001b[38;5;241m=\u001b[39m a \u001b[38;5;241m-\u001b[39m a\u001b[38;5;241m.\u001b[39mmean(axis\u001b[38;5;241m=\u001b[39m\u001b[38;5;241m1\u001b[39m)\n",
      "\u001b[1;31mTypeError\u001b[0m: 'builtin_function_or_method' object is not subscriptable"
     ]
    }
   ],
   "source": [
    "import numpy as np\n",
    "a = np.random.randint[(10, 23)]\n",
    "print(a)\n",
    "b = a - a.mean(axis=1)\n",
    "print(b)"
   ]
  },
  {
   "cell_type": "code",
   "execution_count": null,
   "id": "2e7bb992",
   "metadata": {},
   "outputs": [],
   "source": []
  }
 ],
 "metadata": {
  "kernelspec": {
   "display_name": "Python 3 (ipykernel)",
   "language": "python",
   "name": "python3"
  },
  "language_info": {
   "codemirror_mode": {
    "name": "ipython",
    "version": 3
   },
   "file_extension": ".py",
   "mimetype": "text/x-python",
   "name": "python",
   "nbconvert_exporter": "python",
   "pygments_lexer": "ipython3",
   "version": "3.9.12"
  }
 },
 "nbformat": 4,
 "nbformat_minor": 5
}
