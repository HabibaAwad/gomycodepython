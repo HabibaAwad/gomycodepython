{
 "cells": [
  {
   "cell_type": "markdown",
   "id": "0caa0616",
   "metadata": {},
   "source": [
    "Question 1\n",
    "\n",
    "Write a Python function to find the largest (max) of three numbers.\n",
    "\n",
    "For example, the max of these three numbers (20, 35, 19) is 35."
   ]
  },
  {
   "cell_type": "code",
   "execution_count": 10,
   "id": "ece54924",
   "metadata": {},
   "outputs": [
    {
     "name": "stdout",
     "output_type": "stream",
     "text": [
      "20\n",
      "35\n",
      "19\n",
      "35\n"
     ]
    }
   ],
   "source": [
    "def top(x, y, z):\n",
    "  \n",
    "    if (x >= y) and (x >= z):\n",
    "        largest = x\n",
    "  \n",
    "    elif (y >= x) and (y >= z):\n",
    "        largest = y\n",
    "    else:\n",
    "        largest = z\n",
    "          \n",
    "    return largest\n",
    "\n",
    "a= int(input())\n",
    "b= int(input())\n",
    "c = int(input())\n",
    "\n",
    "  \n",
    "print(top(a, b, c))"
   ]
  },
  {
   "cell_type": "markdown",
   "id": "3f38056b",
   "metadata": {},
   "source": [
    "Question 1 - 2nd trial\n",
    "\n",
    "Write a Python function to find the largest (max) of three numbers.\n",
    "\n",
    "For example, the max of these three numbers (20, 35, 19) is 35."
   ]
  },
  {
   "cell_type": "code",
   "execution_count": 8,
   "id": "1f36d274",
   "metadata": {
    "scrolled": true
   },
   "outputs": [
    {
     "name": "stdout",
     "output_type": "stream",
     "text": [
      "20\n",
      "35\n",
      "19\n",
      "35\n"
     ]
    }
   ],
   "source": [
    "x= int(input())\n",
    "y= int(input())\n",
    "z = int(input())\n",
    "\n",
    "def top(x, y, z):\n",
    "  \n",
    "    if (x >= y) and (x >= z):\n",
    "        largest = x\n",
    "  \n",
    "    elif (y >= x) and (y >= z):\n",
    "        largest = y\n",
    "    else:\n",
    "        largest = z\n",
    "          \n",
    "    return largest\n",
    "  \n",
    "print(top(x, y, z))"
   ]
  },
  {
   "cell_type": "markdown",
   "id": "ec0d7259",
   "metadata": {},
   "source": [
    "Question 2\n",
    "\n",
    "Write a function calculation() so it can accept two variables and calculate the addition and subtraction of them. It must return both addition and subtraction in a single return call.\n",
    "\n",
    "For example:\n",
    "\n",
    "calculation(40, 10) should produce 50, 30"
   ]
  },
  {
   "cell_type": "code",
   "execution_count": 9,
   "id": "990119ac",
   "metadata": {},
   "outputs": [
    {
     "name": "stdout",
     "output_type": "stream",
     "text": [
      "(50, 30)\n"
     ]
    }
   ],
   "source": [
    "def calculation(a, b):\n",
    "    addition = a + b\n",
    "    subtraction = a - b\n",
    "    return addition, subtraction\n",
    "result = calculation(40, 10)\n",
    "print(result)"
   ]
  },
  {
   "cell_type": "markdown",
   "id": "cf96b0ea",
   "metadata": {},
   "source": [
    "Question 2 - 2nd trial\n",
    "\n",
    "Write a function calculation() so it can accept two variables and calculate the addition and subtraction of them. It must return both addition and subtraction in a single return call.\n",
    "\n",
    "For example:\n",
    "\n",
    "calculation(40, 10) should produce 50, 30"
   ]
  },
  {
   "cell_type": "code",
   "execution_count": 11,
   "id": "09853551",
   "metadata": {},
   "outputs": [
    {
     "name": "stdout",
     "output_type": "stream",
     "text": [
      "(50, 30)\n"
     ]
    }
   ],
   "source": [
    "def calculation(a, b):\n",
    "       return a+b, a-b\n",
    "result = calculation(40, 10)\n",
    "print(result)"
   ]
  },
  {
   "cell_type": "markdown",
   "id": "804db69e",
   "metadata": {},
   "source": [
    "Question 3\n",
    "\n",
    "Write a function that sums the elements of a list of integers.\n",
    "\n",
    "Write a function that multiplies the elements of an integer list.\n",
    "\n",
    "Use the two functions to sum the elements whose position is an even number (0,2,4…) and multiply the rest.\n",
    "\n",
    "Hint: Consider extracting two lists from a first list."
   ]
  },
  {
   "cell_type": "markdown",
   "id": "ab557f2d",
   "metadata": {},
   "source": [
    "Write a function that sums the elements of a list of integers."
   ]
  },
  {
   "cell_type": "code",
   "execution_count": 30,
   "id": "4dbd7f64",
   "metadata": {},
   "outputs": [
    {
     "name": "stdout",
     "output_type": "stream",
     "text": [
      "Sum of all elements in given list:  10151\n"
     ]
    }
   ],
   "source": [
    "l1=[213,12,41,24,3,5234,6,7,5,135,23,4,321,4123]\n",
    " \n",
    "\n",
    " \n",
    "def sumList(l1, elements):\n",
    "    if (elements == 0):\n",
    "        return  0\n",
    "    else:\n",
    "        return l1[elements - 1] + sumList(l1 , elements - 1)\n",
    " \n",
    "\n",
    "total = sumList(l1 , len(l1))\n",
    " \n",
    "print(\"Sum of all elements in given list: \", total)"
   ]
  },
  {
   "cell_type": "markdown",
   "id": "ef1345e2",
   "metadata": {},
   "source": [
    "Write a function that multiplies the elements of an integer list."
   ]
  },
  {
   "cell_type": "code",
   "execution_count": 92,
   "id": "5eda00c0",
   "metadata": {},
   "outputs": [
    {
     "name": "stdout",
     "output_type": "stream",
     "text": [
      "multiplication of the values :  136323327665493244684800\n"
     ]
    }
   ],
   "source": [
    "l1=[213,12,41,24,3,5234,6,7,5,135,23,4,321,4123]\n",
    "def multiplication(l1):\n",
    "    result = 1\n",
    "    for x in l1:\n",
    "        result = result * x\n",
    "    return result\n",
    "\n",
    "print(\"multiplication of the values : \", multiplication(l1))"
   ]
  },
  {
   "cell_type": "markdown",
   "id": "ecdb5cd8",
   "metadata": {},
   "source": [
    "Use the two functions to sum the elements whose position is an even number (0,2,4…) and multiply the rest."
   ]
  },
  {
   "cell_type": "code",
   "execution_count": 48,
   "id": "d708e10f",
   "metadata": {},
   "outputs": [
    {
     "name": "stdout",
     "output_type": "stream",
     "text": [
      "Please Enter the Maximum Value : 55\n",
      "The Sum of Even Numbers from 1 to 55 = 756\n",
      "multiplication of the values :  0\n"
     ]
    }
   ],
   "source": [
    "l1=[213,12,41,24,3,5234,6,7,5,135,23,4,321,4123]\n",
    "l2=[23,125,71,67,9,8970,5,2,1,15,273,8,390,9945]\n",
    "maximum = int(input(\"Please Enter the Maximum Value : \"))\n",
    "even = 0\n",
    "odd = 0\n",
    " \n",
    "for i in range(1, maximum + 1):\n",
    "    if(i % 2 == 0):\n",
    "        even += i\n",
    "    else:\n",
    "        def multiplication(l1):\n",
    "            for i in range(1, maximum + 1):\n",
    "                if(i % 2 == 0):\n",
    "                    odd =i*(i+1)\n",
    "                    return odd\n",
    "        \n",
    "print(\"The Sum of Even Numbers from 1 to {0} = {1}\".format(i, even))\n",
    "print(\"multiplication of the values : \", odd)"
   ]
  },
  {
   "cell_type": "markdown",
   "id": "f98dabe2",
   "metadata": {},
   "source": [
    "Use the two functions to sum the elements whose position is an even number (0,2,4…) and multiply the rest."
   ]
  },
  {
   "cell_type": "code",
   "execution_count": 95,
   "id": "6106ab7c",
   "metadata": {},
   "outputs": [
    {
     "name": "stdout",
     "output_type": "stream",
     "text": [
      "Please Enter the Maximum Value : 5\n",
      "The Sum of Even Numbers =  10\n",
      "multiplication of odd numbers =  1890\n"
     ]
    }
   ],
   "source": [
    "l1=[1,2,3,5,7,9]\n",
    "maximum = int(input(\"Please Enter the Maximum Value : \"))\n",
    "even = 0\n",
    "odd = 0\n",
    "for i in range(0, maximum):\n",
    "    for i in l1:\n",
    "        if(i % 2 == 0):\n",
    "            even += i\n",
    "        else:\n",
    "            def multiplication(l1):\n",
    "                result = 1\n",
    "                for x in l1:\n",
    "                    result = result * x\n",
    "                return result\n",
    "\n",
    "\n",
    "print(\"The Sum of Even Numbers = \", even)\n",
    "print(\"multiplication of odd numbers = \" , multiplication(l1))"
   ]
  },
  {
   "cell_type": "markdown",
   "id": "ae728534",
   "metadata": {},
   "source": [
    "Question 4\n",
    "\n",
    "Write a Python program that accepts a hyphen-separated sequence of words as input and prints the words in a hyphen-separated sequence after sorting them alphabetically.\n",
    "\n",
    "Sample items: green-red-yellow-black-white\n",
    "\n",
    "Expected result: black-green-red-white-yellow\n",
    "\n",
    "Hint: There's a split function to separate your input string into words and a sort function to sort."
   ]
  },
  {
   "cell_type": "code",
   "execution_count": 94,
   "id": "d332a083",
   "metadata": {},
   "outputs": [
    {
     "name": "stdout",
     "output_type": "stream",
     "text": [
      "The string before modification =  green-red-yellow-black-white\n",
      "The string after modification =  black-green-red-white-yellow\n"
     ]
    }
   ],
   "source": [
    "str1 = 'green-red-yellow-black-white'\n",
    "list1 = str1.split('-')\n",
    "list1.sort()\n",
    "result = '-'.join(list1)\n",
    "print('The string before modification = ', str1)\n",
    "print('The string after modification = ', result)"
   ]
  },
  {
   "cell_type": "markdown",
   "id": "4fda7f1c",
   "metadata": {},
   "source": [
    "Question 5 (Bonus)\n",
    "\n",
    "Write a function that calculates and prints the value according to the given formula: Q = square root of [(2 * C * D)/H]. Following are the fixed values of C and H: C is 50, and H is 30. D is the variable whose values should be input to your program in a comma-separated sequence. Example: Let us assume the following comma-separated input sequence is given to the function: 100,150,180. \n",
    "\n",
    "Expected result: 18,22,24 \n",
    "\n",
    "Hints: If the output received is in decimal form, it should be rounded off to its nearest value. For example, if the output received is 26.0, it should be printed as 26. In the case of input data being supplied to the question, it should be assumed to be a console input. "
   ]
  },
  {
   "cell_type": "code",
   "execution_count": null,
   "id": "8b2eae0e",
   "metadata": {},
   "outputs": [],
   "source": []
  }
 ],
 "metadata": {
  "kernelspec": {
   "display_name": "Python 3 (ipykernel)",
   "language": "python",
   "name": "python3"
  },
  "language_info": {
   "codemirror_mode": {
    "name": "ipython",
    "version": 3
   },
   "file_extension": ".py",
   "mimetype": "text/x-python",
   "name": "python",
   "nbconvert_exporter": "python",
   "pygments_lexer": "ipython3",
   "version": "3.9.12"
  }
 },
 "nbformat": 4,
 "nbformat_minor": 5
}
