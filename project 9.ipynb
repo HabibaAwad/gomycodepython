{
 "cells": [
  {
   "cell_type": "markdown",
   "id": "009e8811",
   "metadata": {},
   "source": [
    "1. Write a Python program to read an entire text file.\n",
    "\n",
    "2. Write a Python program to read the first n lines of a file.\n",
    "\n",
    "3. Write a Python program to read the last n lines of a file.\n",
    "\n",
    "4. Write a Python program that takes a text file as input and returns the number of words of a given text file."
   ]
  },
  {
   "cell_type": "code",
   "execution_count": 9,
   "id": "99fb2242",
   "metadata": {},
   "outputs": [
    {
     "name": "stdout",
     "output_type": "stream",
     "text": [
      "hi \n",
      "hello\n",
      "mom\n",
      "today \n",
      "weather is good\n",
      "dad \n",
      "next month \n",
      "no \n",
      "bye \n",
      "goodbye\n"
     ]
    }
   ],
   "source": [
    "def file_read(filetesting):\n",
    "        txt = open(filetesting)\n",
    "        print(txt.read())\n",
    "\n",
    "file_read(\"filetesting.txt\")"
   ]
  },
  {
   "cell_type": "code",
   "execution_count": 3,
   "id": "638b3463",
   "metadata": {},
   "outputs": [
    {
     "name": "stdout",
     "output_type": "stream",
     "text": [
      "hi \n",
      "\n",
      "hello\n",
      "\n",
      "mom\n",
      "\n",
      "today \n",
      "\n",
      "weather is good\n",
      "\n"
     ]
    }
   ],
   "source": [
    "a_file = open(\"filetesting.txt\")\n",
    "number_of_lines = 3\n",
    "for i in range(5):\n",
    "    line = a_file.readline()\n",
    "    print(line)"
   ]
  },
  {
   "cell_type": "code",
   "execution_count": 24,
   "id": "2c015b49",
   "metadata": {},
   "outputs": [
    {
     "name": "stdout",
     "output_type": "stream",
     "text": [
      "dad \n",
      "\n",
      "next month \n",
      "\n",
      "no \n",
      "\n",
      "bye \n",
      "\n",
      "goodbye\n"
     ]
    }
   ],
   "source": [
    "def read_lastnlines(fname,n):\n",
    "    with open(\"filetesting.txt\") as f:\n",
    "        for line in (f.readlines() [-n:]):\n",
    "            print(line)\n",
    "\n",
    "read_lastnlines(\"filetesting.txt\",5)"
   ]
  },
  {
   "cell_type": "code",
   "execution_count": 26,
   "id": "2a52c533",
   "metadata": {},
   "outputs": [
    {
     "name": "stdout",
     "output_type": "stream",
     "text": [
      "13\n"
     ]
    }
   ],
   "source": [
    "a_file = open(\"filetesting.txt\")\n",
    "number_of_words = 0\n",
    "for line in a_file:\n",
    "        words = line.split()\n",
    "        number_of_words += len(words)\n",
    "\n",
    "print(number_of_words)"
   ]
  },
  {
   "cell_type": "code",
   "execution_count": null,
   "id": "b231fe16",
   "metadata": {},
   "outputs": [],
   "source": []
  }
 ],
 "metadata": {
  "kernelspec": {
   "display_name": "Python 3 (ipykernel)",
   "language": "python",
   "name": "python3"
  },
  "language_info": {
   "codemirror_mode": {
    "name": "ipython",
    "version": 3
   },
   "file_extension": ".py",
   "mimetype": "text/x-python",
   "name": "python",
   "nbconvert_exporter": "python",
   "pygments_lexer": "ipython3",
   "version": "3.9.12"
  }
 },
 "nbformat": 4,
 "nbformat_minor": 5
}
