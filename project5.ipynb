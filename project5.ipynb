{
 "cells": [
  {
   "cell_type": "markdown",
   "id": "ac7b2cb0",
   "metadata": {},
   "source": [
    "Write a Python class named Point3D defined by x, y, and z. Define a method that returns (x, y ,z). This tells Python to represent this object in the following format: (x, y, z). Then create a variable named my_point containing a new instance of Point3D with x=1, y=2, and z=3 and print it.\n"
   ]
  },
  {
   "cell_type": "code",
   "execution_count": 24,
   "id": "c76213f3",
   "metadata": {},
   "outputs": [
    {
     "name": "stdout",
     "output_type": "stream",
     "text": [
      "1 2 3\n"
     ]
    }
   ],
   "source": [
    "class  Point3D:\n",
    "    def __init__(self,x, y, z):\n",
    "        self.x = x\n",
    "        self.y = y\n",
    "        self.z = z\n",
    "    \n",
    "    def values(self):\n",
    "        return (self.x, self.y, self.z)\n",
    "\n",
    "my_point = Point3D(1,2,3)\n",
    "\n",
    "print (my_point.x,my_point.y,my_point.z)\n"
   ]
  },
  {
   "cell_type": "markdown",
   "id": "df8538fc",
   "metadata": {},
   "source": [
    "Write a Python class named Rectangle constructed by a length and width. Define two methods, area and perimeter, which will compute the area and the perimeter of the rectangle. Then create a variable named my_rectangle containing a new instance of Rectangle with width=3 and length = 4 and compute both area and perimeter ( the area is expected to be 3*4=12 and perimeter 2*(3+4)=14)."
   ]
  },
  {
   "cell_type": "code",
   "execution_count": 27,
   "id": "5a2a61e0",
   "metadata": {},
   "outputs": [
    {
     "name": "stdout",
     "output_type": "stream",
     "text": [
      "12 14\n"
     ]
    }
   ],
   "source": [
    "class Rectangle():\n",
    "    def __init__(self, L, w):\n",
    "        self.length = L\n",
    "        self.width  = w\n",
    "\n",
    "    def rectangle_area(self):\n",
    "        return self.length*self.width\n",
    "    \n",
    "    def rectangle_perimeter(self):\n",
    "        return (self.length+self.width)*2\n",
    "    \n",
    "My_rectangle = Rectangle(4, 3)\n",
    "print(My_rectangle.rectangle_area(), My_rectangle.rectangle_perimeter())"
   ]
  },
  {
   "cell_type": "markdown",
   "id": "4e391ddd",
   "metadata": {},
   "source": [
    "Write a Python  class named Circle constructed by its center O and radius r. Define two methods, area and perimeter, which will compute the area and the perimeter of the circle, and is Inside() method which allows you to test whether a point A(x, y) belongs to the circle C(O, r) or not.\n"
   ]
  },
  {
   "cell_type": "code",
   "execution_count": 1,
   "id": "15e412a6",
   "metadata": {},
   "outputs": [
    {
     "ename": "IndentationError",
     "evalue": "expected an indented block (1554299541.py, line 14)",
     "output_type": "error",
     "traceback": [
      "\u001b[1;36m  Input \u001b[1;32mIn [1]\u001b[1;36m\u001b[0m\n\u001b[1;33m    if(o1[0]-self.O[0]**2+ (O1[1]-O[1])**2)<self.r**2:\u001b[0m\n\u001b[1;37m    ^\u001b[0m\n\u001b[1;31mIndentationError\u001b[0m\u001b[1;31m:\u001b[0m expected an indented block\n"
     ]
    }
   ],
   "source": [
    "class Circle():\n",
    "    def __init__(self, O, r):\n",
    "        self.center = O\n",
    "        self.radius = r\n",
    "\n",
    "    def area(self):\n",
    "        return self.radius**2*3.14\n",
    "    \n",
    "    def perimeter(self):\n",
    "        return 2*self.radius*3.14\n",
    "    \n",
    "    def inside (self,O1):\n",
    "    \n",
    "    if(o1[0]-self.O[0]**2+ (O1[1]-O[1])**2)<self.r**2:\n",
    "            print(true)\n",
    "    else:\n",
    "            print(false)\n",
    "    \n",
    "NewCircle = Circle((4,5) , 3)\n",
    "print(NewCircle.area())\n",
    "print(NewCircle.perimeter())\n",
    "print (NewCircle.dist)\n"
   ]
  },
  {
   "cell_type": "code",
   "execution_count": 23,
   "id": "88b0bd5a",
   "metadata": {},
   "outputs": [
    {
     "ename": "TypeError",
     "evalue": "unsupported operand type(s) for ** or pow(): 'tuple' and 'int'",
     "output_type": "error",
     "traceback": [
      "\u001b[1;31m---------------------------------------------------------------------------\u001b[0m",
      "\u001b[1;31mTypeError\u001b[0m                                 Traceback (most recent call last)",
      "Input \u001b[1;32mIn [23]\u001b[0m, in \u001b[0;36m<cell line: 19>\u001b[1;34m()\u001b[0m\n\u001b[0;32m     16\u001b[0m             \u001b[38;5;28mprint\u001b[39m(\u001b[38;5;124m\"\u001b[39m\u001b[38;5;124mfalse\u001b[39m\u001b[38;5;124m\"\u001b[39m)\n\u001b[0;32m     18\u001b[0m NewCircle \u001b[38;5;241m=\u001b[39m Circle(\u001b[38;5;241m5\u001b[39m,(\u001b[38;5;241m2\u001b[39m,\u001b[38;5;241m2\u001b[39m))\n\u001b[1;32m---> 19\u001b[0m \u001b[38;5;28mprint\u001b[39m(\u001b[43mNewCircle\u001b[49m\u001b[38;5;241;43m.\u001b[39;49m\u001b[43marea\u001b[49m\u001b[43m(\u001b[49m\u001b[43m)\u001b[49m)\n\u001b[0;32m     20\u001b[0m \u001b[38;5;28mprint\u001b[39m(NewCircle\u001b[38;5;241m.\u001b[39mperimeter())\n\u001b[0;32m     21\u001b[0m \u001b[38;5;28mprint\u001b[39m(NewCircle\u001b[38;5;241m.\u001b[39minside())\n",
      "Input \u001b[1;32mIn [23]\u001b[0m, in \u001b[0;36mCircle.area\u001b[1;34m(self)\u001b[0m\n\u001b[0;32m      6\u001b[0m \u001b[38;5;28;01mdef\u001b[39;00m \u001b[38;5;21marea\u001b[39m(\u001b[38;5;28mself\u001b[39m):\n\u001b[1;32m----> 7\u001b[0m     \u001b[38;5;28;01mreturn\u001b[39;00m (\u001b[43m(\u001b[49m\u001b[38;5;28;43mself\u001b[39;49m\u001b[38;5;241;43m.\u001b[39;49m\u001b[43mradius\u001b[49m\u001b[43m)\u001b[49m\u001b[38;5;241;43m*\u001b[39;49m\u001b[38;5;241;43m*\u001b[39;49m\u001b[38;5;241;43m2\u001b[39;49m)\u001b[38;5;241m*\u001b[39m\u001b[38;5;241m3.14\u001b[39m\n",
      "\u001b[1;31mTypeError\u001b[0m: unsupported operand type(s) for ** or pow(): 'tuple' and 'int'"
     ]
    }
   ],
   "source": [
    "class Circle():\n",
    "    def __init__(self, O, r):\n",
    "        self.center = O\n",
    "        self.radius = r\n",
    "\n",
    "    def area(self):\n",
    "        return ((self.radius)**2)*3.14\n",
    "    \n",
    "    def perimeter(self):\n",
    "        return 2*self.radius*3.14\n",
    "   \n",
    "    def inside (self,O1):\n",
    "        if ((o1[0]-self.O[0])**2+ (O1[1]-O[1])**2)<self.r**2:\n",
    "            print(\"true\")\n",
    "        else:\n",
    "            print(\"false\")\n",
    "    \n",
    "NewCircle = Circle(5,(2,2))\n",
    "print(NewCircle.area())\n",
    "print(NewCircle.perimeter())\n",
    "print(NewCircle.inside())\n"
   ]
  },
  {
   "cell_type": "code",
   "execution_count": 6,
   "id": "41c78e6a",
   "metadata": {},
   "outputs": [
    {
     "name": "stdout",
     "output_type": "stream",
     "text": [
      "Enter Deposit Amount: 1000\n",
      "Enter Withdraw Amount: 300\n",
      "Withdraw: 300.0\n",
      "Current Account Balance= 700.0\n"
     ]
    },
    {
     "ename": "NameError",
     "evalue": "name 'amount' is not defined",
     "output_type": "error",
     "traceback": [
      "\u001b[1;31m---------------------------------------------------------------------------\u001b[0m",
      "\u001b[1;31mNameError\u001b[0m                                 Traceback (most recent call last)",
      "Input \u001b[1;32mIn [6]\u001b[0m, in \u001b[0;36m<cell line: 25>\u001b[1;34m()\u001b[0m\n\u001b[0;32m     22\u001b[0m s\u001b[38;5;241m.\u001b[39mwithdraw()\n\u001b[0;32m     23\u001b[0m s\u001b[38;5;241m.\u001b[39mdisplay()\n\u001b[1;32m---> 25\u001b[0m \u001b[38;5;28mprint\u001b[39m(\u001b[38;5;124m\"\u001b[39m\u001b[38;5;124mDeposit:\u001b[39m\u001b[38;5;124m\"\u001b[39m,\u001b[43mamount\u001b[49m)\n",
      "\u001b[1;31mNameError\u001b[0m: name 'amount' is not defined"
     ]
    }
   ],
   "source": [
    "class Bank_Acc:\n",
    "    def __init__(self):\n",
    "        self.balance=0\n",
    "         \n",
    "    def deposit(self):\n",
    "        amount=float(input(\"Enter Deposit Amount: \"))\n",
    "        self.balance += amount\n",
    "        \n",
    "    def withdraw(self):\n",
    "        amount = float(input(\"Enter Withdraw Amount: \"))\n",
    "        if self.balance>=amount:\n",
    "            self.balance-=amount\n",
    "            print(\"Withdraw:\", amount)\n",
    "        else:\n",
    "            print(\"\\n Insufficient balance  \")\n",
    " \n",
    "    def display(self):\n",
    "        print(\"Current Account Balance=\",self.balance)\n",
    " \n",
    "s = Bank_Acc()\n",
    "s.deposit()\n",
    "s.withdraw()\n",
    "s.display()\n",
    "\n",
    "print(\"Deposit:\",amount)\n",
    " "
   ]
  }
 ],
 "metadata": {
  "kernelspec": {
   "display_name": "Python 3 (ipykernel)",
   "language": "python",
   "name": "python3"
  },
  "language_info": {
   "codemirror_mode": {
    "name": "ipython",
    "version": 3
   },
   "file_extension": ".py",
   "mimetype": "text/x-python",
   "name": "python",
   "nbconvert_exporter": "python",
   "pygments_lexer": "ipython3",
   "version": "3.9.12"
  }
 },
 "nbformat": 4,
 "nbformat_minor": 5
}
