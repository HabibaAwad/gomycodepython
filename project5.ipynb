{
 "cells": [
  {
   "cell_type": "markdown",
   "id": "ac7b2cb0",
   "metadata": {},
   "source": [
    "Write a Python class named Point3D defined by x, y, and z. Define a method that returns (x, y ,z). This tells Python to represent this object in the following format: (x, y, z). Then create a variable named my_point containing a new instance of Point3D with x=1, y=2, and z=3 and print it.\n"
   ]
  },
  {
   "cell_type": "code",
   "execution_count": 24,
   "id": "c76213f3",
   "metadata": {},
   "outputs": [
    {
     "name": "stdout",
     "output_type": "stream",
     "text": [
      "1 2 3\n"
     ]
    }
   ],
   "source": [
    "class  Point3D:\n",
    "    def __init__(self,x, y, z):\n",
    "        self.x = x\n",
    "        self.y = y\n",
    "        self.z = z\n",
    "    \n",
    "    def values(self):\n",
    "        return (self.x, self.y, self.z)\n",
    "\n",
    "my_point = Point3D(1,2,3)\n",
    "\n",
    "print (my_point.x,my_point.y,my_point.z)\n"
   ]
  },
  {
   "cell_type": "markdown",
   "id": "df8538fc",
   "metadata": {},
   "source": [
    "Write a Python class named Rectangle constructed by a length and width. Define two methods, area and perimeter, which will compute the area and the perimeter of the rectangle. Then create a variable named my_rectangle containing a new instance of Rectangle with width=3 and length = 4 and compute both area and perimeter ( the area is expected to be 3*4=12 and perimeter 2*(3+4)=14)."
   ]
  },
  {
   "cell_type": "code",
   "execution_count": 27,
   "id": "5a2a61e0",
   "metadata": {},
   "outputs": [
    {
     "name": "stdout",
     "output_type": "stream",
     "text": [
      "12 14\n"
     ]
    }
   ],
   "source": [
    "class Rectangle():\n",
    "    def __init__(self, L, w):\n",
    "        self.length = L\n",
    "        self.width  = w\n",
    "\n",
    "    def rectangle_area(self):\n",
    "        return self.length*self.width\n",
    "    \n",
    "    def rectangle_perimeter(self):\n",
    "        return (self.length+self.width)*2\n",
    "    \n",
    "My_rectangle = Rectangle(4, 3)\n",
    "print(My_rectangle.rectangle_area(), My_rectangle.rectangle_perimeter())"
   ]
  },
  {
   "cell_type": "markdown",
   "id": "4e391ddd",
   "metadata": {},
   "source": [
    "Write a Python  class named Circle constructed by its center O and radius r. Define two methods, area and perimeter, which will compute the area and the perimeter of the circle, and is Inside() method which allows you to test whether a point A(x, y) belongs to the circle C(O, r) or not.\n"
   ]
  },
  {
   "cell_type": "code",
   "execution_count": 12,
   "id": "88b0bd5a",
   "metadata": {},
   "outputs": [
    {
     "name": "stdout",
     "output_type": "stream",
     "text": [
      "78.5\n",
      "31.400000000000002\n",
      "true\n"
     ]
    }
   ],
   "source": [
    "class Circle():\n",
    "    def __init__(self, O, r):\n",
    "        self.center = O\n",
    "        self.radius = r\n",
    "\n",
    "    def area(self):\n",
    "        return ((self.radius)**2)*3.14\n",
    "    \n",
    "    def perimeter(self):\n",
    "        return 2*self.radius*3.14\n",
    "   \n",
    "    def inside (self,O1):\n",
    "        if ((O1[0]-self.center[0])**2+ (O1[1]-self.center[1])**2)<self.radius**2:\n",
    "            print(\"true\")\n",
    "        else:\n",
    "            print(\"false\")\n",
    "    \n",
    "NewCircle = Circle((2,2),5)\n",
    "print(NewCircle.area())\n",
    "print(NewCircle.perimeter())\n",
    "NewCircle.inside((2,3))\n"
   ]
  },
  {
   "cell_type": "markdown",
   "id": "8ff017c4",
   "metadata": {},
   "source": [
    "Suppose we want to model a bank account with support for deposit and withdraw operations. Let’s create a Python class named Bank defined by its balance. Define two methods, deposit and withdraw, to compute the new amount of each operation."
   ]
  },
  {
   "cell_type": "code",
   "execution_count": 15,
   "id": "41c78e6a",
   "metadata": {},
   "outputs": [
    {
     "name": "stdout",
     "output_type": "stream",
     "text": [
      "Enter Deposit Amount: 700\n",
      "Deposit: 700.0\n",
      "Enter Withdraw Amount: 200\n",
      "Withdraw: 200.0\n",
      "Current Account Balance= 500.0\n"
     ]
    }
   ],
   "source": [
    "class Bank_Acc:\n",
    "    def __init__(self):\n",
    "        self.balance=0\n",
    "         \n",
    "    def deposit(self):\n",
    "        amount=float(input(\"Enter Deposit Amount: \"))\n",
    "        self.balance += amount\n",
    "        print(\"Deposit:\",amount)\n",
    "        \n",
    "    def withdraw(self):\n",
    "        amount = float(input(\"Enter Withdraw Amount: \"))\n",
    "        if self.balance>=amount:\n",
    "            self.balance-=amount\n",
    "            print(\"Withdraw:\", amount)\n",
    "        else:\n",
    "            print(\"Insufficient balance\")\n",
    " \n",
    "    def display(self):\n",
    "        print(\"Current Account Balance=\",self.balance)\n",
    " \n",
    "s = Bank_Acc()\n",
    "s.deposit()\n",
    "s.withdraw()\n",
    "s.display()\n",
    "\n",
    "\n",
    " "
   ]
  },
  {
   "cell_type": "code",
   "execution_count": null,
   "id": "17045719",
   "metadata": {},
   "outputs": [],
   "source": []
  }
 ],
 "metadata": {
  "kernelspec": {
   "display_name": "Python 3 (ipykernel)",
   "language": "python",
   "name": "python3"
  },
  "language_info": {
   "codemirror_mode": {
    "name": "ipython",
    "version": 3
   },
   "file_extension": ".py",
   "mimetype": "text/x-python",
   "name": "python",
   "nbconvert_exporter": "python",
   "pygments_lexer": "ipython3",
   "version": "3.9.12"
  }
 },
 "nbformat": 4,
 "nbformat_minor": 5
}
